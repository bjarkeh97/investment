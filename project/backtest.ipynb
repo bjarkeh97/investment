{
 "cells": [
  {
   "cell_type": "markdown",
   "metadata": {},
   "source": [
    "Getting the data from local csv"
   ]
  },
  {
   "cell_type": "code",
   "execution_count": 4,
   "metadata": {},
   "outputs": [
    {
     "data": {
      "text/plain": [
       "['C:/Users/Bruger\\\\Code/quantitative_investment/data_nasdaq\\\\bonds\\\\MAJGO.csv',\n",
       " 'C:/Users/Bruger\\\\Code/quantitative_investment/data_nasdaq\\\\bonds\\\\MAJHIO.csv',\n",
       " 'C:/Users/Bruger\\\\Code/quantitative_investment/data_nasdaq\\\\index\\\\FIRSTNORTHDK.csv',\n",
       " 'C:/Users/Bruger\\\\Code/quantitative_investment/data_nasdaq\\\\index\\\\OMCSMALLCAPDK.csv',\n",
       " 'C:/Users/Bruger\\\\Code/quantitative_investment/data_nasdaq\\\\index\\\\OMXC25.csv',\n",
       " 'C:/Users/Bruger\\\\Code/quantitative_investment/data_nasdaq\\\\sectors\\\\ENERGYDK.csv',\n",
       " 'C:/Users/Bruger\\\\Code/quantitative_investment/data_nasdaq\\\\sectors\\\\FINANCEDK.csv',\n",
       " 'C:/Users/Bruger\\\\Code/quantitative_investment/data_nasdaq\\\\sectors\\\\HEALTHDK.csv',\n",
       " 'C:/Users/Bruger\\\\Code/quantitative_investment/data_nasdaq\\\\sectors\\\\INDUSTRYDK.csv',\n",
       " 'C:/Users/Bruger\\\\Code/quantitative_investment/data_nasdaq\\\\sectors\\\\TECHDK.csv']"
      ]
     },
     "execution_count": 4,
     "metadata": {},
     "output_type": "execute_result"
    }
   ],
   "source": [
    "import os\n",
    "\n",
    "mypath = \"C:/Users/Bruger\\Code/quantitative_investment/data_nasdaq\"\n",
    "\n",
    "[os.path.join(dirpath,f) for (dirpath, dirnames, filenames) in os.walk(mypath) for f in filenames]"
   ]
  }
 ],
 "metadata": {
  "kernelspec": {
   "display_name": ".venv",
   "language": "python",
   "name": "python3"
  },
  "language_info": {
   "codemirror_mode": {
    "name": "ipython",
    "version": 3
   },
   "file_extension": ".py",
   "mimetype": "text/x-python",
   "name": "python",
   "nbconvert_exporter": "python",
   "pygments_lexer": "ipython3",
   "version": "3.11.4"
  },
  "orig_nbformat": 4
 },
 "nbformat": 4,
 "nbformat_minor": 2
}
