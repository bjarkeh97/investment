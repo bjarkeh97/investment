{
 "cells": [
  {
   "cell_type": "markdown",
   "metadata": {},
   "source": [
    "## Introduction\n",
    "\n",
    "This project is a basic project to test the idea of quantitative asset management. It will employ ideas from Modern Portfolio Theory used to distribute funds between asset for an investment portfolio. For profit and risk evaluation different methods will be employed - these should vary from basic expectation and variance to ARMA/GARCH modelling to ML models using financial and technical data."
   ]
  },
  {
   "cell_type": "markdown",
   "metadata": {},
   "source": [
    "## Assets\n",
    "\n",
    "In this project I will look at the following assets:\n",
    "\n",
    "- Stocks/markets\n",
    "- Bonds\n",
    "- Crypto\n",
    "- Commodities\n",
    "\n",
    "The goal is to have a few years worth of data on the assets and preferably also fundamental data for each asset class. By combining assets from multiple asset classes it can be possible to increase profit/risk compared to only investing in a single asset class.\n"
   ]
  }
 ],
 "metadata": {
  "language_info": {
   "name": "python"
  },
  "orig_nbformat": 4
 },
 "nbformat": 4,
 "nbformat_minor": 2
}
